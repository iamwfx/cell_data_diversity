{
 "cells": [
  {
   "cell_type": "code",
   "execution_count": 1,
   "metadata": {},
   "outputs": [],
   "source": [
    "import pandas as pd\n",
    "import numpy as np\n",
    "import geopandas as gpd\n",
    "import matplotlib.pyplot as plt\n",
    "\n",
    "from sklearn.cluster import DBSCAN\n",
    "\n",
    "from geopy.distance import great_circle\n",
    "from shapely.geometry import MultiPoint\n",
    "\n",
    "from random import sample \n",
    "\n",
    "from shapely.geometry import Point\n",
    "import pyproj\n",
    "geod = pyproj.Geod(ellps='WGS84')\n",
    "\n",
    "import seaborn as sns\n",
    "sns.set_style(\"whitegrid\")\n",
    "\n",
    "                   \n",
    "    \n",
    "import os\n",
    "import glob\n",
    "%matplotlib inline"
   ]
  },
  {
   "cell_type": "markdown",
   "metadata": {},
   "source": [
    "# 1.Radius Tests\n",
    "\n",
    "The goal of this notebook is to understand how different home and stay radii impact the count and representativeness of the cell phone data. To do this, I will look at home radii of 150 meters and 250 meters, and stay radii of [10,20,30,50] for each.\n",
    "\n",
    "The logic behind this is: \n",
    "\n",
    "- We only need to find the home location to the precision of the census block group's boundaries.\n",
    "- The average block group area (when cutting off the long tail at around 1,000,000 m^2, is around 165,000m^2. \n",
    "- This means, supposing a square (that's an assumption for calc purpose), that each side is around 406 m long. Inscribing a circle inside would result in a circle with radius approx. 200m. \n",
    "- Because there is imprecision in the points, we'll use a 50m buffer, and look at 150 m and 250m on either side of the 200m to see what results. \n",
    "- For stay points, the radius needs to be much tighter in order to approximate interactions. \n"
   ]
  },
  {
   "cell_type": "markdown",
   "metadata": {},
   "source": [
    "## 1.0 Get Data\n",
    "\n",
    "### 1.0.1 Read all home locations for each day\n",
    "\n",
    "Testing this on Jul 2, 2019"
   ]
  },
  {
   "cell_type": "code",
   "execution_count": 33,
   "metadata": {},
   "outputs": [],
   "source": [
    "rad_test_folders = glob.glob('/Volumes/Elements/Cuebiq/01_Analysis/Radius_test/*')"
   ]
  },
  {
   "cell_type": "code",
   "execution_count": 34,
   "metadata": {},
   "outputs": [],
   "source": [
    "files_final= glob.glob('/Volumes/Elements/Cuebiq/01_Analysis/Results_150m_10m_ALL/*')\n",
    "all_datesnow = list(set([x.split('/')[-1].split('_')[-2] for x in files_final]))"
   ]
  },
  {
   "cell_type": "code",
   "execution_count": 35,
   "metadata": {},
   "outputs": [],
   "source": [
    "k = 599\n",
    "h_list = []\n",
    "s_list = []\n",
    "for each in rad_test_folders:\n",
    "    sample_files_home =glob.glob(each+'/home_locs_*.csv')\n",
    "    li_h = []\n",
    "    for filename in sample_files_home:\n",
    "        df = pd.read_csv(filename, index_col=None, header=0)\n",
    "        li_h.append(df)\n",
    "\n",
    "    h = pd.concat(li_h, axis=0, ignore_index=True)\n",
    "    h['radius'] = \"{}_{}\".format(each.split('/')[-1].split('_')[1],each.split('/')[-1].split('_')[2])\n",
    "    h_list.append(h)\n",
    "\n",
    "    sample_files_stay = glob.glob(each+'/stays_*.csv')\n",
    "    li_s = []\n",
    "    for filename in sample_files_stay:\n",
    "        df = pd.read_csv(filename, index_col=None, header=0)\n",
    "        li_s.append(df)\n",
    "\n",
    "    s = pd.concat(li_s, axis=0, ignore_index=True)\n",
    "    s['radius'] = \"{}_{}\".format(each.split('/')[-1].split('_')[1],each.split('/')[-1].split('_')[2])\n",
    "    s_list.append(s)\n",
    "home = pd.concat(h_list)\n",
    "home = home[home.radius.isin(['150m_10m','250m_10m'])]\n",
    "stay = pd.concat(s_list)\n",
    "stay = stay[stay.radius.isin(['150m_10m','150m_20m','150m_30m','150m_50m'])]"
   ]
  },
  {
   "cell_type": "markdown",
   "metadata": {},
   "source": [
    "Join all Dfs"
   ]
  },
  {
   "cell_type": "code",
   "execution_count": 36,
   "metadata": {},
   "outputs": [],
   "source": [
    "home = pd.concat(h_list)\n",
    "home = home[home.radius.isin(['150m_10m','250m_10m'])]\n",
    "stay = pd.concat(s_list)\n",
    "stay = stay[stay.radius.isin(['150m_10m','150m_20m','150m_30m','150m_50m'])]"
   ]
  },
  {
   "cell_type": "markdown",
   "metadata": {},
   "source": [
    "Convert to geo_df"
   ]
  },
  {
   "cell_type": "code",
   "execution_count": 38,
   "metadata": {},
   "outputs": [],
   "source": [
    "home_geo = gpd.GeoDataFrame(home,geometry = gpd.points_from_xy(home.home_lng,home.home_lat,crs=\"EPSG:4326\"))\n",
    "stay_geo = gpd.GeoDataFrame(stay,geometry = gpd.points_from_xy(stay.stay_lng,stay.stay_lat,crs=\"EPSG:4326\"))"
   ]
  },
  {
   "cell_type": "markdown",
   "metadata": {},
   "source": [
    "## 1.1 Compare counts"
   ]
  },
  {
   "cell_type": "code",
   "execution_count": 39,
   "metadata": {},
   "outputs": [
    {
     "name": "stdout",
     "output_type": "stream",
     "text": [
      "For 150m_10m, home is 6737 and stay is 122500\n",
      "For 250m_10m, home is 6943 and stay is 0\n",
      "For 150m_10m, home is 6737 and stay is 122500\n",
      "For 150m_20m, home is 0 and stay is 220905\n",
      "For 150m_30m, home is 0 and stay is 303060\n",
      "For 150m_50m, home is 0 and stay is 566092\n"
     ]
    }
   ],
   "source": [
    "for each in home.radius.unique():\n",
    "    print(\"For {}, home is {} and stay is {}\".format(each,home[home.radius==each].shape[0],stay[stay.radius==each].shape[0]))\n",
    "\n",
    "for each in stay.radius.unique():\n",
    "    print(\"For {}, home is {} and stay is {}\".format(each,home[home.radius==each].shape[0],stay[stay.radius==each].shape[0]))\n",
    "\n"
   ]
  },
  {
   "cell_type": "code",
   "execution_count": 40,
   "metadata": {},
   "outputs": [
    {
     "data": {
      "image/png": "[encoded data removed]",
      "text/plain": [
       "<Figure size 432x288 with 1 Axes>"
      ]
     },
     "metadata": {
      "needs_background": "light"
     },
     "output_type": "display_data"
    }
   ],
   "source": [
    "plt.plot([10,20,30,50],[122500,220905,303060,566092])\n",
    "plt.show()"
   ]
  },
  {
   "cell_type": "markdown",
   "metadata": {},
   "source": [
    "## 1.2 Get a sense of the general radius distribution "
   ]
  },
  {
   "cell_type": "code",
   "execution_count": 29,
   "metadata": {},
   "outputs": [],
   "source": [
    "test = pd.read_csv('/Volumes/Elements/Cuebiq/01_Analysis/part-00000-1245d2d8-7236-447f-81ef-5f02ddf12568-c000.csv',sep=\"\\t\",header=None).rename(columns={0:'datetime',1:'uid',2:'dunno',3:'lat',4:'lng',5:'acc',6:'ele'})"
   ]
  },
  {
   "cell_type": "code",
   "execution_count": 30,
   "metadata": {},
   "outputs": [
    {
     "data": {
      "text/plain": [
       "count    6.800300e+04\n",
       "mean     8.693093e+01\n",
       "std      6.077172e+03\n",
       "min      0.000000e+00\n",
       "25%      5.000000e+00\n",
       "50%      1.200000e+01\n",
       "75%      6.500000e+01\n",
       "max      1.576811e+06\n",
       "Name: acc, dtype: float64"
      ]
     },
     "execution_count": 30,
     "metadata": {},
     "output_type": "execute_result"
    }
   ],
   "source": [
    "test['acc'].describe()"
   ]
  },
  {
   "cell_type": "code",
   "execution_count": 31,
   "metadata": {},
   "outputs": [
    {
     "data": {
      "text/plain": [
       "65.0"
      ]
     },
     "execution_count": 31,
     "metadata": {},
     "output_type": "execute_result"
    }
   ],
   "source": [
    "test['acc'].quantile(.90)"
   ]
  },
  {
   "cell_type": "code",
   "execution_count": 60,
   "metadata": {},
   "outputs": [
    {
     "data": {
      "text/plain": [
       "0.028954604943899533"
      ]
     },
     "execution_count": 60,
     "metadata": {},
     "output_type": "execute_result"
    }
   ],
   "source": [
    "thres_rad = 500\n",
    "test[test.acc>thres_rad].shape[0]/test.shape[0]"
   ]
  },
  {
   "cell_type": "code",
   "execution_count": 61,
   "metadata": {},
   "outputs": [],
   "source": [
    "test1 = test[test.acc>thres_rad]"
   ]
  },
  {
   "cell_type": "markdown",
   "metadata": {},
   "source": [
    "# 2. Velocity Test\n",
    "\n",
    "The goal of this notebook is to understand the distribution of mobility speeds and what portion of the data is higher velocity. \n"
   ]
  },
  {
   "cell_type": "markdown",
   "metadata": {},
   "source": [
    "## 2.1 Percentage of data removed due to velocity threshold"
   ]
  },
  {
   "cell_type": "code",
   "execution_count": 64,
   "metadata": {},
   "outputs": [],
   "source": [
    "def sort_uid_dt(x):\n",
    "    x = x.sort_values(['uid','datetime'])\n",
    "    return x\n",
    "def get_distance1(x1,y1,x2,y2):\n",
    "    angle1,angle2,distance = geod.inv(x1,y1,x2,y2)\n",
    "    return distance\n",
    "vdistance = np.vectorize(get_distance1)\n",
    "\n",
    "def get_distance(x):\n",
    "    '''\n",
    "    Returns the distance between two consecutive points after sorting by datetime\n",
    "    '''\n",
    "\n",
    "    return vdistance(x['lng'],x['lat'],x['lng'].shift(1),x['lat'].shift(1))"
   ]
  },
  {
   "cell_type": "code",
   "execution_count": 65,
   "metadata": {},
   "outputs": [
    {
     "name": "stderr",
     "output_type": "stream",
     "text": [
      "/Users/wenfeixu/anaconda3/envs/gds/lib/python3.7/site-packages/ipykernel_launcher.py:3: SettingWithCopyWarning: \n",
      "A value is trying to be set on a copy of a slice from a DataFrame.\n",
      "Try using .loc[row_indexer,col_indexer] = value instead\n",
      "\n",
      "See the caveats in the documentation: https://pandas.pydata.org/pandas-docs/stable/user_guide/indexing.html#returning-a-view-versus-a-copy\n",
      "  This is separate from the ipykernel package so we can avoid doing imports until\n"
     ]
    }
   ],
   "source": [
    "## This is a pretty good upper bound, determined\n",
    "day1= test[test.acc<=500]\n",
    "day1['datetime']=pd.to_datetime(day1.datetime,unit='s') - pd.Timedelta(hours=6)\n",
    "\n",
    "day2 =day1.sort_values(['uid','datetime'])"
   ]
  },
  {
   "cell_type": "code",
   "execution_count": 66,
   "metadata": {},
   "outputs": [],
   "source": [
    "day3 = day2.assign(lat_prev =day2['lat'].shift(),\n",
    "\t\t\t  lng_prev =day2['lng'].shift())"
   ]
  },
  {
   "cell_type": "code",
   "execution_count": 67,
   "metadata": {},
   "outputs": [
    {
     "name": "stderr",
     "output_type": "stream",
     "text": [
      "/Users/wenfeixu/anaconda3/envs/gds/lib/python3.7/site-packages/numpy/lib/function_base.py:2192: RuntimeWarning: invalid value encountered in ? (vectorized)\n",
      "  outputs = ufunc(*inputs)\n"
     ]
    }
   ],
   "source": [
    "day4 = day3.assign(dist=day3.apply(lambda x: vdistance(x['lng'],x['lat'],x['lng_prev'],x['lat_prev']),axis=1).fillna(-99))\n",
    "day4 = day4.fillna(-99)"
   ]
  },
  {
   "cell_type": "code",
   "execution_count": 106,
   "metadata": {},
   "outputs": [
    {
     "name": "stderr",
     "output_type": "stream",
     "text": [
      "/Users/wenfeixu/anaconda3/envs/gds/lib/python3.7/site-packages/ipykernel_launcher.py:3: RuntimeWarning: invalid value encountered in true_divide\n",
      "  This is separate from the ipykernel package so we can avoid doing imports until\n",
      "/Users/wenfeixu/anaconda3/envs/gds/lib/python3.7/site-packages/ipykernel_launcher.py:3: RuntimeWarning: divide by zero encountered in true_divide\n",
      "  This is separate from the ipykernel package so we can avoid doing imports until\n"
     ]
    }
   ],
   "source": [
    "day5 = day4.assign(time_diff =day4['datetime'].diff().dt.total_seconds())\n",
    "day5.loc[57494,'dist']= 0\n",
    "day6 = day5.assign(vel = day5.apply(lambda x: x['dist']/(x['time_diff']/(60)),axis=1))\n",
    "day6 = day6.replace(np.inf,-99)\n",
    "day6 = day6.replace(np.nan,-99)\n"
   ]
  },
  {
   "cell_type": "code",
   "execution_count": 114,
   "metadata": {},
   "outputs": [],
   "source": [
    "vel_thres = 400 ## This seem to be a good upper bound for removing all the vehicular traffic (based on exporting the data and a visual inspection)\n",
    "day7 = day6[(day6.vel <vel_thres)]\n",
    "day7= gpd.GeoDataFrame(day7,geometry=[Point(xy) for xy in zip(day7.lng,day7.lat)])\n"
   ]
  },
  {
   "cell_type": "code",
   "execution_count": 111,
   "metadata": {},
   "outputs": [
    {
     "data": {
      "text/plain": [
       "count    16615.000000\n",
       "mean       100.257505\n",
       "std        120.897986\n",
       "min          0.000000\n",
       "25%          4.218820\n",
       "50%         37.278620\n",
       "75%        179.201030\n",
       "max        399.955176\n",
       "Name: vel, dtype: float64"
      ]
     },
     "execution_count": 111,
     "metadata": {},
     "output_type": "execute_result"
    }
   ],
   "source": [
    "day7['vel'].describe()"
   ]
  },
  {
   "cell_type": "code",
   "execution_count": 112,
   "metadata": {},
   "outputs": [
    {
     "data": {
      "text/plain": [
       "0.2443274561416408"
      ]
     },
     "execution_count": 112,
     "metadata": {},
     "output_type": "execute_result"
    }
   ],
   "source": [
    "day7.shape[0]/test.shape[0]"
   ]
  },
  {
   "cell_type": "markdown",
   "metadata": {},
   "source": [
    "## 2.2 Percentage of data removed due to transit mode"
   ]
  },
  {
   "cell_type": "code",
   "execution_count": 74,
   "metadata": {},
   "outputs": [],
   "source": [
    "streets_buffer = gpd.read_file('Data/Shapefiles/tl_2013_17031_roads/buffers_30ft_rad_dissolve/buffers_30ft_rad_dissolve.shp')"
   ]
  },
  {
   "cell_type": "code",
   "execution_count": 115,
   "metadata": {},
   "outputs": [
    {
     "name": "stderr",
     "output_type": "stream",
     "text": [
      "/Users/wenfeixu/anaconda3/envs/gds/lib/python3.7/site-packages/ipykernel_launcher.py:1: UserWarning: CRS mismatch between the CRS of left geometries and the CRS of right geometries.\n",
      "Use `to_crs()` to reproject one of the input geometries to match the CRS of the other.\n",
      "\n",
      "Left CRS: None\n",
      "Right CRS: EPSG:4326\n",
      "\n",
      "  \"\"\"Entry point for launching an IPython kernel.\n"
     ]
    }
   ],
   "source": [
    "pts_on_road = gpd.sjoin(day7,streets_buffer)"
   ]
  },
  {
   "cell_type": "code",
   "execution_count": 116,
   "metadata": {},
   "outputs": [
    {
     "data": {
      "text/plain": [
       "0.38210078967104394"
      ]
     },
     "execution_count": 116,
     "metadata": {},
     "output_type": "execute_result"
    }
   ],
   "source": [
    "(day7.shape[0]-pts_on_road.shape[0])/test.shape[0]"
   ]
  },
  {
   "cell_type": "code",
   "execution_count": 118,
   "metadata": {},
   "outputs": [
    {
     "data": {
      "text/plain": [
       "count    16615.000000\n",
       "mean       100.257505\n",
       "std        120.897986\n",
       "min          0.000000\n",
       "25%          4.218820\n",
       "50%         37.278620\n",
       "75%        179.201030\n",
       "max        399.955176\n",
       "Name: vel, dtype: float64"
      ]
     },
     "execution_count": 118,
     "metadata": {},
     "output_type": "execute_result"
    }
   ],
   "source": [
    "day7[(day7.index.isin(pts_on_road)==False)&(day7.vel>=0)]['vel'].describe()"
   ]
  },
  {
   "cell_type": "code",
   "execution_count": 119,
   "metadata": {},
   "outputs": [],
   "source": [
    "day8 =day7[(day7.index.isin(pts_on_road)==False)]"
   ]
  },
  {
   "cell_type": "markdown",
   "metadata": {},
   "source": [
    "## 3. Home location descriptive statistics\n"
   ]
  },
  {
   "cell_type": "code",
   "execution_count": 162,
   "metadata": {},
   "outputs": [],
   "source": [
    "home_all = pd.read_pickle('home_loc_MOREINFO.pickle')"
   ]
  },
  {
   "cell_type": "code",
   "execution_count": 142,
   "metadata": {},
   "outputs": [],
   "source": [
    "li = []\n",
    "for each in glob.glob('/Volumes/Elements/Cuebiq/01_Analysis/Results_150m_10m_ALL/home_locs*.csv'):\n",
    "    df = pd.read_csv(each, index_col=None, header=0)\n",
    "    li.append(df)\n",
    "    date = each.split('/')[-1].split(\"_\")[-1].split('.')[0]\n",
    "    df['date'] = date\n",
    "home = pd.concat(li, axis=0, ignore_index=True)\n"
   ]
  },
  {
   "cell_type": "code",
   "execution_count": 150,
   "metadata": {},
   "outputs": [
    {
     "data": {
      "text/plain": [
       "count    129997.000000\n",
       "mean          5.669115\n",
       "std          10.165365\n",
       "min           1.000000\n",
       "25%           1.000000\n",
       "50%           2.000000\n",
       "75%           5.000000\n",
       "max         117.000000\n",
       "Name: home_lng, dtype: float64"
      ]
     },
     "execution_count": 150,
     "metadata": {},
     "output_type": "execute_result"
    }
   ],
   "source": [
    "home.groupby('uid').count()['home_lng'].describe()"
   ]
  },
  {
   "cell_type": "markdown",
   "metadata": {},
   "source": [
    "## 3.1 Percentage of data removed due to land use \n",
    "This calculation was done in the remote server, but according to my notes there are around 7k removals. "
   ]
  },
  {
   "cell_type": "code",
   "execution_count": 144,
   "metadata": {},
   "outputs": [
    {
     "data": {
      "text/plain": [
       "0.009409006839003827"
      ]
     },
     "execution_count": 144,
     "metadata": {},
     "output_type": "execute_result"
    }
   ],
   "source": [
    "7000/(home.shape[0]+7000)"
   ]
  },
  {
   "cell_type": "markdown",
   "metadata": {},
   "source": [
    "# 4. Stay location descriptive statistics"
   ]
  },
  {
   "cell_type": "code",
   "execution_count": 164,
   "metadata": {},
   "outputs": [],
   "source": [
    "stays_all = pd.read_pickle('stays2.pickle')"
   ]
  },
  {
   "cell_type": "code",
   "execution_count": 160,
   "metadata": {},
   "outputs": [],
   "source": [
    "li = []\n",
    "for each in glob.glob('/Volumes/Elements/Cuebiq/01_Analysis/Results_150m_10m_ALL/stay*.csv'):\n",
    "    df = pd.read_csv(each, index_col=None, header=0)\n",
    "    li.append(df)\n",
    "    date = each.split('/')[-1].split(\"_\")[-1].split('.')[0]\n",
    "    df['date'] = date\n",
    "stays = pd.concat(li, axis=0, ignore_index=True)\n",
    "\n",
    "stays = pd.concat(li, axis=0, ignore_index=True)\n",
    "stays = stays.sort_values(['uid','trip_label','datetime'])\n",
    "stays.reset_index(drop=True,inplace=True)\n",
    "\n"
   ]
  },
  {
   "cell_type": "code",
   "execution_count": 169,
   "metadata": {},
   "outputs": [
    {
     "data": {
      "text/plain": [
       "count    2.456050e+06\n",
       "mean     4.652094e+00\n",
       "std      6.573381e+00\n",
       "min      3.000000e+00\n",
       "25%      3.000000e+00\n",
       "50%      3.000000e+00\n",
       "75%      5.000000e+00\n",
       "max      2.518000e+03\n",
       "Name: lat, dtype: float64"
      ]
     },
     "execution_count": 169,
     "metadata": {},
     "output_type": "execute_result"
    }
   ],
   "source": [
    "stays.groupby(['uid','date','trip_label','stay_label']).count()['lat'].describe()"
   ]
  },
  {
   "cell_type": "markdown",
   "metadata": {},
   "source": [
    "Stays with no home locations are removed"
   ]
  },
  {
   "cell_type": "code",
   "execution_count": 163,
   "metadata": {},
   "outputs": [
    {
     "name": "stderr",
     "output_type": "stream",
     "text": [
      "/Users/wenfeixu/anaconda3/envs/gds/lib/python3.7/site-packages/ipykernel_launcher.py:2: SettingWithCopyWarning: \n",
      "A value is trying to be set on a copy of a slice from a DataFrame.\n",
      "Try using .loc[row_indexer,col_indexer] = value instead\n",
      "\n",
      "See the caveats in the documentation: https://pandas.pydata.org/pandas-docs/stable/user_guide/indexing.html#returning-a-view-versus-a-copy\n",
      "  \n",
      "/Users/wenfeixu/anaconda3/envs/gds/lib/python3.7/site-packages/ipykernel_launcher.py:3: SettingWithCopyWarning: \n",
      "A value is trying to be set on a copy of a slice from a DataFrame.\n",
      "Try using .loc[row_indexer,col_indexer] = value instead\n",
      "\n",
      "See the caveats in the documentation: https://pandas.pydata.org/pandas-docs/stable/user_guide/indexing.html#returning-a-view-versus-a-copy\n",
      "  This is separate from the ipykernel package so we can avoid doing imports until\n"
     ]
    }
   ],
   "source": [
    "stays1 = stays[stays.uid.isin(home_all.uid)]\n",
    "stays1['datetime']=pd.to_datetime(stays1['datetime'])\n",
    "stays1['day']=pd.to_datetime(stays1['datetime']).dt.day"
   ]
  },
  {
   "cell_type": "code",
   "execution_count": 170,
   "metadata": {},
   "outputs": [
    {
     "data": {
      "text/plain": [
       "count    1.644955e+06\n",
       "mean     4.692748e+00\n",
       "std      7.060652e+00\n",
       "min      3.000000e+00\n",
       "25%      3.000000e+00\n",
       "50%      3.000000e+00\n",
       "75%      5.000000e+00\n",
       "max      2.518000e+03\n",
       "Name: lat, dtype: float64"
      ]
     },
     "execution_count": 170,
     "metadata": {},
     "output_type": "execute_result"
    }
   ],
   "source": [
    "stays1.groupby(['uid','date','trip_label','stay_label']).count()['lat'].describe()"
   ]
  },
  {
   "cell_type": "code",
   "execution_count": 166,
   "metadata": {},
   "outputs": [
    {
     "data": {
      "text/plain": [
       "(1644955, 8)"
      ]
     },
     "execution_count": 166,
     "metadata": {},
     "output_type": "execute_result"
    }
   ],
   "source": [
    "stays_all.shape"
   ]
  }
 ],
 "metadata": {
  "kernelspec": {
   "display_name": "Python 3",
   "language": "python",
   "name": "python3"
  },
  "language_info": {
   "codemirror_mode": {
    "name": "ipython",
    "version": 3
   },
   "file_extension": ".py",
   "mimetype": "text/x-python",
   "name": "python",
   "nbconvert_exporter": "python",
   "pygments_lexer": "ipython3",
   "version": "3.8.8"
  }
 },
 "nbformat": 4,
 "nbformat_minor": 4
}
